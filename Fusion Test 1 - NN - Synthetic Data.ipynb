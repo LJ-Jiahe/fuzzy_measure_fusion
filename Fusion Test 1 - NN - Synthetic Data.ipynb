{
 "cells": [
  {
   "cell_type": "code",
   "execution_count": 1,
   "id": "3ba2dffb",
   "metadata": {
    "code_folding": [
     0
    ]
   },
   "outputs": [
    {
     "data": {
      "text/html": [
       "<style>.container { width:100% !important; }</style>"
      ],
      "text/plain": [
       "<IPython.core.display.HTML object>"
      ]
     },
     "metadata": {},
     "output_type": "display_data"
    },
    {
     "name": "stdout",
     "output_type": "stream",
     "text": [
      "macOS\n",
      "Interactive plot activated\n"
     ]
    }
   ],
   "source": [
    "# Imports\n",
    "\n",
    "import itertools\n",
    "from itertools import permutations\n",
    "import os\n",
    "import pickle\n",
    "import platform\n",
    "import random\n",
    "from tkinter import Tk\n",
    "\n",
    "from cvxopt import solvers, matrix\n",
    "import math\n",
    "from matplotlib import animation\n",
    "from  matplotlib import pyplot as plt\n",
    "from matplotlib.ticker import FuncFormatter\n",
    "import numpy as np\n",
    "import torch\n",
    "import torchvision\n",
    "from torchvision import transforms, models,datasets\n",
    "from torch.utils.data import Dataset, DataLoader\n",
    "from tqdm import tqdm\n",
    "\n",
    "# Extend width of Jupyter Notebook Cell to the size of browser\n",
    "from IPython.core.display import display, HTML\n",
    "display(HTML(\"<style>.container { width:100% !important; }</style>\"))\n",
    "\n",
    "# OS related settings\n",
    "if platform.system() == 'Windows':\n",
    "    print('Windows')\n",
    "#     %matplotlib tk\n",
    "    %matplotlib qt\n",
    "elif platform.system() == 'Darwin':\n",
    "    print('macOS')\n",
    "    Tk().withdraw()\n",
    "    %matplotlib osx\n",
    "elif platform == 'linux' or platform == 'linux2':\n",
    "    print('Linux')\n",
    "# This line of \"print\" must exist right after %matplotlib command, otherwise JN will hang on the first import statement after this.\n",
    "print('Interactive plot activated')"
   ]
  },
  {
   "cell_type": "code",
   "execution_count": 2,
   "id": "6636ac83",
   "metadata": {
    "code_folding": [
     0
    ]
   },
   "outputs": [],
   "source": [
    "# ChINN\n",
    "\n",
    "# Convert decimal to binary string\n",
    "def sources_and_subsets_nodes(N):\n",
    "    str1 = \"{0:{fill}\"+str(N)+\"b}\"\n",
    "    a = []\n",
    "    for i in range(1,2**N):\n",
    "        a.append(str1.format(i, fill='0'))\n",
    "\n",
    "    sourcesInNode = []\n",
    "    sourcesNotInNode = []\n",
    "    subset = []\n",
    "    sourceList = list(range(N))\n",
    "    # find subset nodes of a node\n",
    "    def node_subset(node, sourcesInNodes):\n",
    "        return [node - 2**(i) for i in sourcesInNodes]\n",
    "    \n",
    "    # convert binary encoded string to integer list\n",
    "    def string_to_integer_array(s, ch):\n",
    "        N = len(s) \n",
    "        return [(N - i - 1) for i, ltr in enumerate(s) if ltr == ch]\n",
    "    \n",
    "    for j in range(len(a)):\n",
    "        # index from right to left\n",
    "        idxLR = string_to_integer_array(a[j],'1')\n",
    "        sourcesInNode.append(idxLR)  \n",
    "        sourcesNotInNode.append(list(set(sourceList) - set(idxLR)))\n",
    "        subset.append(node_subset(j,idxLR))\n",
    "\n",
    "    return sourcesInNode, subset\n",
    "\n",
    "\n",
    "def subset_to_indices(indices):\n",
    "    return [i for i in indices]\n",
    "\n",
    "class Choquet_Integral_NN(torch.nn.Module):\n",
    "    \n",
    "    def __init__(self, N_in, N_out):\n",
    "        super(Choquet_Integral_NN,self).__init__()\n",
    "        self.N_in = N_in\n",
    "        self.N_out = N_out\n",
    "        self.nVars = 2**self.N_in - 2\n",
    "        \n",
    "        # The FM is initialized with mean\n",
    "        dummy = (1./self.N_in) * torch.ones((self.nVars, self.N_out), requires_grad=True)\n",
    "#        self.vars = torch.nn.Parameter( torch.Tensor(self.nVars,N_out))\n",
    "        self.vars = torch.nn.Parameter(dummy)\n",
    "        \n",
    "        # following function uses numpy vs pytorch\n",
    "        self.sourcesInNode, self.subset = sources_and_subsets_nodes(self.N_in)\n",
    "        \n",
    "        self.sourcesInNode = [torch.tensor(x) for x in self.sourcesInNode]\n",
    "        self.subset = [torch.tensor(x) for x in self.subset]\n",
    "        \n",
    "    def forward(self,inputs):    \n",
    "        self.FM = self.chi_nn_vars(self.vars)\n",
    "        sortInputs, sortInd = torch.sort(inputs,1, True)\n",
    "        M, N = inputs.size()\n",
    "        sortInputs = torch.cat((sortInputs, torch.zeros(M,1)), 1)\n",
    "        sortInputs = sortInputs[:,:-1] -  sortInputs[:,1:]\n",
    "        \n",
    "        out = torch.cumsum(torch.pow(2,sortInd),1) - torch.ones(1, dtype=torch.int64)\n",
    "        \n",
    "        data = torch.zeros((M,self.nVars+1))\n",
    "        \n",
    "        for i in range(M):\n",
    "            data[i,out[i,:]] = sortInputs[i,:] \n",
    "        \n",
    "        \n",
    "        ChI = torch.matmul(data,self.FM)\n",
    "            \n",
    "        return ChI\n",
    "    \n",
    "    # Converts NN-vars to FM vars\n",
    "    def chi_nn_vars(self, chi_vars):\n",
    "#        nVars,_ = chi_vars.size()\n",
    "        chi_vars = torch.abs(chi_vars)\n",
    "        #        nInputs = inputs.get_shape().as_list()[1]\n",
    "        \n",
    "        FM = chi_vars[None, 0,:]\n",
    "        for i in range(1,self.nVars):\n",
    "            indices = subset_to_indices(self.subset[i])\n",
    "            if (len(indices) == 1):\n",
    "                FM = torch.cat((FM,chi_vars[None,i,:]),0)\n",
    "            else:\n",
    "                #         ss=tf.gather_nd(variables, [[1],[2]])\n",
    "                maxVal,_ = torch.max(FM[indices,:],0)\n",
    "                temp = torch.add(maxVal,chi_vars[i,:])\n",
    "                FM = torch.cat((FM,temp[None,:]),0)\n",
    "              \n",
    "        FM = torch.cat([FM, torch.ones((1,self.N_out))],0)\n",
    "        FM = torch.min(FM, torch.ones(1))  \n",
    "        \n",
    "        return FM\n",
    "    \n",
    "\n"
   ]
  },
  {
   "cell_type": "code",
   "execution_count": 3,
   "id": "572af06a",
   "metadata": {
    "code_folding": []
   },
   "outputs": [],
   "source": [
    "# Functions\n",
    "\n",
    "def create_dataset(dim, all_perms, num_per_perm, superset_factor):\n",
    "    \"\"\"\n",
    "    Create a dataset with all possible permutation, with each permutation having the same number of samples.\n",
    "    \n",
    "    :param dim: Dimension of data sample\n",
    "    :param all_perms: A list of permutation. \n",
    "                      Use as an input so that the algorithm creates data for different permutations in the order assigned.\n",
    "    :param num_per_perm: Number of data samples for each permutation\n",
    "    :param superset_factor: Data for each permutation are pulled from a randomly generated dataset. \n",
    "                            To ensure that each permutation gets at least #num_per_perm# data samples,\n",
    "                            create a dataset #superset_factor* times (normally 3 will be enough) bigger than the dataset wanted.\n",
    "    \"\"\"\n",
    "    # Every permutation gets the same number of train/test data samples,\n",
    "    # To ensure that, calculate the number of data needed in total, \n",
    "    # and generate a super dataset that is multiple times bigger.\n",
    "    num = math.factorial(dim) * num_per_perm\n",
    "    # Create superset\n",
    "    data_superset = np.random.rand(dim, num*superset_factor)\n",
    "    # Get permutation of each data sample\n",
    "    data_perms = np.argsort(data_superset, 0)\n",
    "    # N! possible permutations\n",
    "#     all_perms = list(permutations(list(range(dim))))\n",
    "    # Group data sample according to its permutation\n",
    "    data_idx_superset_by_perm = []\n",
    "    \n",
    "    for i, current_perm in enumerate(all_perms):\n",
    "        # Get index of data sample of certain permutation and save to list\n",
    "        temp = np.where(data_perms[0, :]==current_perm[0])\n",
    "        for idx, p in enumerate(current_perm):\n",
    "            temp = np.intersect1d(temp, np.where(data_perms[idx, :]==p))\n",
    "        if temp.size < num_per_perm:\n",
    "            print('Current permutation doesn\\'t have sufficient number of samples. Please regenerate!')\n",
    "            exit()\n",
    "        data_idx_superset_by_perm.append(temp)\n",
    "    \n",
    "    # Every permutation gets the same number of train/test data samples,\n",
    "    # Data is randomly pull from superset each epoch\n",
    "    data_idx_by_perm = []\n",
    "    for i in range(len(all_perms)):\n",
    "        temp = data_idx_superset_by_perm[i]\n",
    "        random.shuffle(temp)\n",
    "        data_idx_by_perm.append(temp[0:num_per_perm])\n",
    "        \n",
    "    return data_superset, data_idx_superset_by_perm, data_idx_by_perm\n",
    "\n",
    "\n",
    "def cal_chi(fm, x):\n",
    "    \"\"\"\n",
    "    Calculates ChI with given fuzzy measure and input\n",
    "    \n",
    "    :param fm: Fuzzy measure\n",
    "    :param x: Input\n",
    "    :return: Single value Chi output\n",
    "    \"\"\"\n",
    "    pi_i = np.argsort(-x) + 1 # Arg sort of input, with the smallest index9 being 1\n",
    "    ch = x[pi_i[0] - 1] * (fm[str(pi_i[:1])])\n",
    "    for i in range(1, len(x)):\n",
    "        latt_pti = np.sort(pi_i[:i+1])\n",
    "        latt_ptimin1 = np.sort(pi_i[:i])\n",
    "        ch = ch + x[pi_i[i] - 1] * (fm[str(latt_pti)] - fm[str(latt_ptimin1)])\n",
    "    return ch\n",
    "\n",
    "\n",
    "def get_cal_chi(fm):\n",
    "    return lambda x: cal_chi(fm, x)\n",
    "\n",
    "\n",
    "def train_chinn(chinn, lr, criterion, optimizer, num_epoch, train_d, train_label):\n",
    "    \"\"\"\n",
    "    Train nn for fuzzy measure\n",
    "    \"\"\"\n",
    "    for epoch in range(num_epoch):\n",
    "        # Forward pass: Compute predicted y by passing x to the model\n",
    "        y_pred = chinn(train_d.transpose(0, 1))\n",
    "        # Compute the loss\n",
    "        loss = criterion(y_pred, train_label)\n",
    "        # Zero gradients, perform a backward pass, and update the weights.\n",
    "        optimizer.zero_grad()\n",
    "        loss.backward()\n",
    "        optimizer.step()\n",
    "        \n",
    "\n",
    "def gmean(dim):\n",
    "    return lambda x, d: torch.pow(torch.prod(x, d), 1/dim)\n",
    "\n",
    "\n",
    "def get_keys_index(dim):\n",
    "    \"\"\"\n",
    "    Sets up a dictionary for referencing FM.\n",
    "    :return: The keys to the dictionary\n",
    "    \"\"\"\n",
    "    vls = np.arange(1, dim + 1)\n",
    "    Lattice = {}\n",
    "    for i in range(1, dim + 1):\n",
    "        A = np.array(list(itertools.combinations(vls, i)))\n",
    "        for latt_pt in A:\n",
    "            Lattice[str(latt_pt)] = 1\n",
    "    return Lattice\n",
    "\n",
    "\n",
    "def get_min_fm_target(dim):\n",
    "    fm = get_keys_index(dim)\n",
    "    for key in fm.keys():\n",
    "        if len(key.split()) != dim:\n",
    "            fm[key] = 0\n",
    "        else:\n",
    "            fm[key] = 1\n",
    "    return fm\n",
    "    \n",
    "    \n",
    "def get_max_fm_target(dim):\n",
    "    fm = get_keys_index(dim)\n",
    "    return fm\n",
    "\n",
    "\n",
    "def get_mean_fm_target(dim):\n",
    "    fm = get_keys_index(dim)\n",
    "    for key in fm.keys():\n",
    "        fm[key] = len(key.split()) / dim\n",
    "    return fm\n",
    "\n",
    "\n",
    "def get_gmean_fm_target(dim):\n",
    "    fm = get_mean_fm_target(dim)\n",
    "    return fm"
   ]
  },
  {
   "cell_type": "code",
   "execution_count": 4,
   "id": "066a2f3d",
   "metadata": {
    "code_folding": [],
    "scrolled": true
   },
   "outputs": [
    {
     "name": "stdout",
     "output_type": "stream",
     "text": [
      "Repetition: 1\n"
     ]
    },
    {
     "name": "stderr",
     "output_type": "stream",
     "text": [
      "100%|██████████| 6/6 [00:02<00:00,  2.59it/s]\n"
     ]
    },
    {
     "name": "stdout",
     "output_type": "stream",
     "text": [
      "Repetition: 2\n"
     ]
    },
    {
     "name": "stderr",
     "output_type": "stream",
     "text": [
      "100%|██████████| 6/6 [00:02<00:00,  2.63it/s]\n"
     ]
    },
    {
     "name": "stdout",
     "output_type": "stream",
     "text": [
      "Repetition: 3\n"
     ]
    },
    {
     "name": "stderr",
     "output_type": "stream",
     "text": [
      "100%|██████████| 6/6 [00:02<00:00,  2.65it/s]\n"
     ]
    },
    {
     "name": "stdout",
     "output_type": "stream",
     "text": [
      "Repetition: 4\n"
     ]
    },
    {
     "name": "stderr",
     "output_type": "stream",
     "text": [
      "100%|██████████| 6/6 [00:02<00:00,  2.39it/s]\n"
     ]
    },
    {
     "name": "stdout",
     "output_type": "stream",
     "text": [
      "Repetition: 5\n"
     ]
    },
    {
     "name": "stderr",
     "output_type": "stream",
     "text": [
      "100%|██████████| 6/6 [00:02<00:00,  2.58it/s]\n"
     ]
    },
    {
     "name": "stdout",
     "output_type": "stream",
     "text": [
      "Repetition: 6\n"
     ]
    },
    {
     "name": "stderr",
     "output_type": "stream",
     "text": [
      "100%|██████████| 6/6 [00:02<00:00,  2.57it/s]\n"
     ]
    },
    {
     "name": "stdout",
     "output_type": "stream",
     "text": [
      "Repetition: 7\n"
     ]
    },
    {
     "name": "stderr",
     "output_type": "stream",
     "text": [
      "100%|██████████| 6/6 [00:02<00:00,  2.57it/s]\n"
     ]
    },
    {
     "name": "stdout",
     "output_type": "stream",
     "text": [
      "Repetition: 8\n"
     ]
    },
    {
     "name": "stderr",
     "output_type": "stream",
     "text": [
      "100%|██████████| 6/6 [00:02<00:00,  2.60it/s]\n"
     ]
    },
    {
     "name": "stdout",
     "output_type": "stream",
     "text": [
      "Repetition: 9\n"
     ]
    },
    {
     "name": "stderr",
     "output_type": "stream",
     "text": [
      "100%|██████████| 6/6 [00:02<00:00,  2.64it/s]\n"
     ]
    },
    {
     "name": "stdout",
     "output_type": "stream",
     "text": [
      "Repetition: 10\n"
     ]
    },
    {
     "name": "stderr",
     "output_type": "stream",
     "text": [
      "100%|██████████| 6/6 [00:02<00:00,  2.55it/s]\n"
     ]
    },
    {
     "name": "stdout",
     "output_type": "stream",
     "text": [
      "Repetition: 11\n"
     ]
    },
    {
     "name": "stderr",
     "output_type": "stream",
     "text": [
      "100%|██████████| 6/6 [00:02<00:00,  2.59it/s]\n"
     ]
    },
    {
     "name": "stdout",
     "output_type": "stream",
     "text": [
      "Repetition: 12\n"
     ]
    },
    {
     "name": "stderr",
     "output_type": "stream",
     "text": [
      "100%|██████████| 6/6 [00:02<00:00,  2.61it/s]\n"
     ]
    },
    {
     "name": "stdout",
     "output_type": "stream",
     "text": [
      "Repetition: 13\n"
     ]
    },
    {
     "name": "stderr",
     "output_type": "stream",
     "text": [
      "100%|██████████| 6/6 [00:02<00:00,  2.52it/s]\n"
     ]
    },
    {
     "name": "stdout",
     "output_type": "stream",
     "text": [
      "Repetition: 14\n"
     ]
    },
    {
     "name": "stderr",
     "output_type": "stream",
     "text": [
      "100%|██████████| 6/6 [00:02<00:00,  2.55it/s]\n"
     ]
    },
    {
     "name": "stdout",
     "output_type": "stream",
     "text": [
      "Repetition: 15\n"
     ]
    },
    {
     "name": "stderr",
     "output_type": "stream",
     "text": [
      "100%|██████████| 6/6 [00:02<00:00,  2.56it/s]\n"
     ]
    },
    {
     "name": "stdout",
     "output_type": "stream",
     "text": [
      "Repetition: 16\n"
     ]
    },
    {
     "name": "stderr",
     "output_type": "stream",
     "text": [
      "100%|██████████| 6/6 [00:02<00:00,  2.51it/s]\n"
     ]
    },
    {
     "name": "stdout",
     "output_type": "stream",
     "text": [
      "Repetition: 17\n"
     ]
    },
    {
     "name": "stderr",
     "output_type": "stream",
     "text": [
      "100%|██████████| 6/6 [00:02<00:00,  2.46it/s]\n"
     ]
    },
    {
     "name": "stdout",
     "output_type": "stream",
     "text": [
      "Repetition: 18\n"
     ]
    },
    {
     "name": "stderr",
     "output_type": "stream",
     "text": [
      "100%|██████████| 6/6 [00:02<00:00,  2.43it/s]\n"
     ]
    },
    {
     "name": "stdout",
     "output_type": "stream",
     "text": [
      "Repetition: 19\n"
     ]
    },
    {
     "name": "stderr",
     "output_type": "stream",
     "text": [
      "100%|██████████| 6/6 [00:02<00:00,  2.47it/s]\n"
     ]
    },
    {
     "name": "stdout",
     "output_type": "stream",
     "text": [
      "Repetition: 20\n"
     ]
    },
    {
     "name": "stderr",
     "output_type": "stream",
     "text": [
      "100%|██████████| 6/6 [00:02<00:00,  2.50it/s]\n"
     ]
    },
    {
     "name": "stdout",
     "output_type": "stream",
     "text": [
      "Repetition: 21\n"
     ]
    },
    {
     "name": "stderr",
     "output_type": "stream",
     "text": [
      "100%|██████████| 6/6 [00:02<00:00,  2.50it/s]\n"
     ]
    },
    {
     "name": "stdout",
     "output_type": "stream",
     "text": [
      "Repetition: 22\n"
     ]
    },
    {
     "name": "stderr",
     "output_type": "stream",
     "text": [
      "100%|██████████| 6/6 [00:02<00:00,  2.46it/s]\n"
     ]
    },
    {
     "name": "stdout",
     "output_type": "stream",
     "text": [
      "Repetition: 23\n"
     ]
    },
    {
     "name": "stderr",
     "output_type": "stream",
     "text": [
      "100%|██████████| 6/6 [00:02<00:00,  2.49it/s]\n"
     ]
    },
    {
     "name": "stdout",
     "output_type": "stream",
     "text": [
      "Repetition: 24\n"
     ]
    },
    {
     "name": "stderr",
     "output_type": "stream",
     "text": [
      "100%|██████████| 6/6 [00:02<00:00,  2.58it/s]\n"
     ]
    },
    {
     "name": "stdout",
     "output_type": "stream",
     "text": [
      "Repetition: 25\n"
     ]
    },
    {
     "name": "stderr",
     "output_type": "stream",
     "text": [
      "100%|██████████| 6/6 [00:02<00:00,  2.61it/s]\n"
     ]
    },
    {
     "name": "stdout",
     "output_type": "stream",
     "text": [
      "Repetition: 26\n"
     ]
    },
    {
     "name": "stderr",
     "output_type": "stream",
     "text": [
      "100%|██████████| 6/6 [00:02<00:00,  2.60it/s]\n"
     ]
    },
    {
     "name": "stdout",
     "output_type": "stream",
     "text": [
      "Repetition: 27\n"
     ]
    },
    {
     "name": "stderr",
     "output_type": "stream",
     "text": [
      "100%|██████████| 6/6 [00:02<00:00,  2.61it/s]\n"
     ]
    },
    {
     "name": "stdout",
     "output_type": "stream",
     "text": [
      "Repetition: 28\n"
     ]
    },
    {
     "name": "stderr",
     "output_type": "stream",
     "text": [
      "100%|██████████| 6/6 [00:02<00:00,  2.56it/s]\n"
     ]
    },
    {
     "name": "stdout",
     "output_type": "stream",
     "text": [
      "Repetition: 29\n"
     ]
    },
    {
     "name": "stderr",
     "output_type": "stream",
     "text": [
      "100%|██████████| 6/6 [00:02<00:00,  2.58it/s]\n"
     ]
    },
    {
     "name": "stdout",
     "output_type": "stream",
     "text": [
      "Repetition: 30\n"
     ]
    },
    {
     "name": "stderr",
     "output_type": "stream",
     "text": [
      "100%|██████████| 6/6 [00:02<00:00,  2.59it/s]\n"
     ]
    },
    {
     "name": "stdout",
     "output_type": "stream",
     "text": [
      "Repetition: 31\n"
     ]
    },
    {
     "name": "stderr",
     "output_type": "stream",
     "text": [
      "100%|██████████| 6/6 [00:02<00:00,  2.51it/s]\n"
     ]
    },
    {
     "name": "stdout",
     "output_type": "stream",
     "text": [
      "Repetition: 32\n"
     ]
    },
    {
     "name": "stderr",
     "output_type": "stream",
     "text": [
      "100%|██████████| 6/6 [00:02<00:00,  2.63it/s]\n"
     ]
    },
    {
     "name": "stdout",
     "output_type": "stream",
     "text": [
      "Repetition: 33\n"
     ]
    },
    {
     "name": "stderr",
     "output_type": "stream",
     "text": [
      "100%|██████████| 6/6 [00:02<00:00,  2.55it/s]\n"
     ]
    },
    {
     "name": "stdout",
     "output_type": "stream",
     "text": [
      "Repetition: 34\n"
     ]
    },
    {
     "name": "stderr",
     "output_type": "stream",
     "text": [
      "100%|██████████| 6/6 [00:02<00:00,  2.50it/s]\n"
     ]
    },
    {
     "name": "stdout",
     "output_type": "stream",
     "text": [
      "Repetition: 35\n"
     ]
    },
    {
     "name": "stderr",
     "output_type": "stream",
     "text": [
      "100%|██████████| 6/6 [00:02<00:00,  2.47it/s]\n"
     ]
    },
    {
     "name": "stdout",
     "output_type": "stream",
     "text": [
      "Repetition: 36\n"
     ]
    },
    {
     "name": "stderr",
     "output_type": "stream",
     "text": [
      "100%|██████████| 6/6 [00:02<00:00,  2.52it/s]\n"
     ]
    },
    {
     "name": "stdout",
     "output_type": "stream",
     "text": [
      "Repetition: 37\n"
     ]
    },
    {
     "name": "stderr",
     "output_type": "stream",
     "text": [
      "100%|██████████| 6/6 [00:02<00:00,  2.55it/s]\n"
     ]
    },
    {
     "name": "stdout",
     "output_type": "stream",
     "text": [
      "Repetition: 38\n"
     ]
    },
    {
     "name": "stderr",
     "output_type": "stream",
     "text": [
      "100%|██████████| 6/6 [00:02<00:00,  2.47it/s]\n"
     ]
    },
    {
     "name": "stdout",
     "output_type": "stream",
     "text": [
      "Repetition: 39\n"
     ]
    },
    {
     "name": "stderr",
     "output_type": "stream",
     "text": [
      "100%|██████████| 6/6 [00:02<00:00,  2.51it/s]\n"
     ]
    },
    {
     "name": "stdout",
     "output_type": "stream",
     "text": [
      "Repetition: 40\n"
     ]
    },
    {
     "name": "stderr",
     "output_type": "stream",
     "text": [
      "100%|██████████| 6/6 [00:02<00:00,  2.51it/s]\n"
     ]
    },
    {
     "name": "stdout",
     "output_type": "stream",
     "text": [
      "Repetition: 41\n"
     ]
    },
    {
     "name": "stderr",
     "output_type": "stream",
     "text": [
      "100%|██████████| 6/6 [00:02<00:00,  2.56it/s]\n"
     ]
    },
    {
     "name": "stdout",
     "output_type": "stream",
     "text": [
      "Repetition: 42\n"
     ]
    },
    {
     "name": "stderr",
     "output_type": "stream",
     "text": [
      "100%|██████████| 6/6 [00:02<00:00,  2.56it/s]\n"
     ]
    },
    {
     "name": "stdout",
     "output_type": "stream",
     "text": [
      "Repetition: 43\n"
     ]
    },
    {
     "name": "stderr",
     "output_type": "stream",
     "text": [
      "100%|██████████| 6/6 [00:02<00:00,  2.57it/s]\n"
     ]
    },
    {
     "name": "stdout",
     "output_type": "stream",
     "text": [
      "Repetition: 44\n"
     ]
    },
    {
     "name": "stderr",
     "output_type": "stream",
     "text": [
      "100%|██████████| 6/6 [00:02<00:00,  2.65it/s]\n"
     ]
    },
    {
     "name": "stdout",
     "output_type": "stream",
     "text": [
      "Repetition: 45\n"
     ]
    },
    {
     "name": "stderr",
     "output_type": "stream",
     "text": [
      "100%|██████████| 6/6 [00:02<00:00,  2.50it/s]\n"
     ]
    },
    {
     "name": "stdout",
     "output_type": "stream",
     "text": [
      "Repetition: 46\n"
     ]
    },
    {
     "name": "stderr",
     "output_type": "stream",
     "text": [
      "100%|██████████| 6/6 [00:02<00:00,  2.21it/s]\n"
     ]
    },
    {
     "name": "stdout",
     "output_type": "stream",
     "text": [
      "Repetition: 47\n"
     ]
    },
    {
     "name": "stderr",
     "output_type": "stream",
     "text": [
      "100%|██████████| 6/6 [00:02<00:00,  2.29it/s]\n"
     ]
    },
    {
     "name": "stdout",
     "output_type": "stream",
     "text": [
      "Repetition: 48\n"
     ]
    },
    {
     "name": "stderr",
     "output_type": "stream",
     "text": [
      "100%|██████████| 6/6 [00:02<00:00,  2.55it/s]\n"
     ]
    },
    {
     "name": "stdout",
     "output_type": "stream",
     "text": [
      "Repetition: 49\n"
     ]
    },
    {
     "name": "stderr",
     "output_type": "stream",
     "text": [
      "100%|██████████| 6/6 [00:02<00:00,  2.62it/s]\n"
     ]
    },
    {
     "name": "stdout",
     "output_type": "stream",
     "text": [
      "Repetition: 50\n"
     ]
    },
    {
     "name": "stderr",
     "output_type": "stream",
     "text": [
      "100%|██████████| 6/6 [00:02<00:00,  2.59it/s]\n"
     ]
    },
    {
     "name": "stdout",
     "output_type": "stream",
     "text": [
      "Repetition: 51\n"
     ]
    },
    {
     "name": "stderr",
     "output_type": "stream",
     "text": [
      "100%|██████████| 6/6 [00:02<00:00,  2.62it/s]\n"
     ]
    },
    {
     "name": "stdout",
     "output_type": "stream",
     "text": [
      "Repetition: 52\n"
     ]
    },
    {
     "name": "stderr",
     "output_type": "stream",
     "text": [
      "100%|██████████| 6/6 [00:02<00:00,  2.61it/s]\n"
     ]
    },
    {
     "name": "stdout",
     "output_type": "stream",
     "text": [
      "Repetition: 53\n"
     ]
    },
    {
     "name": "stderr",
     "output_type": "stream",
     "text": [
      "100%|██████████| 6/6 [00:02<00:00,  2.62it/s]\n"
     ]
    },
    {
     "name": "stdout",
     "output_type": "stream",
     "text": [
      "Repetition: 54\n"
     ]
    },
    {
     "name": "stderr",
     "output_type": "stream",
     "text": [
      "100%|██████████| 6/6 [00:02<00:00,  2.62it/s]\n"
     ]
    },
    {
     "name": "stdout",
     "output_type": "stream",
     "text": [
      "Repetition: 55\n"
     ]
    },
    {
     "name": "stderr",
     "output_type": "stream",
     "text": [
      "100%|██████████| 6/6 [00:02<00:00,  2.55it/s]\n"
     ]
    },
    {
     "name": "stdout",
     "output_type": "stream",
     "text": [
      "Repetition: 56\n"
     ]
    },
    {
     "name": "stderr",
     "output_type": "stream",
     "text": [
      "100%|██████████| 6/6 [00:02<00:00,  2.51it/s]\n"
     ]
    },
    {
     "name": "stdout",
     "output_type": "stream",
     "text": [
      "Repetition: 57\n"
     ]
    },
    {
     "name": "stderr",
     "output_type": "stream",
     "text": [
      "100%|██████████| 6/6 [00:02<00:00,  2.54it/s]\n"
     ]
    },
    {
     "name": "stdout",
     "output_type": "stream",
     "text": [
      "Repetition: 58\n"
     ]
    },
    {
     "name": "stderr",
     "output_type": "stream",
     "text": [
      "100%|██████████| 6/6 [00:02<00:00,  2.52it/s]\n"
     ]
    },
    {
     "name": "stdout",
     "output_type": "stream",
     "text": [
      "Repetition: 59\n"
     ]
    },
    {
     "name": "stderr",
     "output_type": "stream",
     "text": [
      "100%|██████████| 6/6 [00:02<00:00,  2.47it/s]\n"
     ]
    },
    {
     "name": "stdout",
     "output_type": "stream",
     "text": [
      "Repetition: 60\n"
     ]
    },
    {
     "name": "stderr",
     "output_type": "stream",
     "text": [
      "100%|██████████| 6/6 [00:02<00:00,  2.53it/s]\n"
     ]
    },
    {
     "name": "stdout",
     "output_type": "stream",
     "text": [
      "Repetition: 61\n"
     ]
    },
    {
     "name": "stderr",
     "output_type": "stream",
     "text": [
      "100%|██████████| 6/6 [00:02<00:00,  2.64it/s]\n"
     ]
    },
    {
     "name": "stdout",
     "output_type": "stream",
     "text": [
      "Repetition: 62\n"
     ]
    },
    {
     "name": "stderr",
     "output_type": "stream",
     "text": [
      "100%|██████████| 6/6 [00:02<00:00,  2.65it/s]\n"
     ]
    },
    {
     "name": "stdout",
     "output_type": "stream",
     "text": [
      "Repetition: 63\n"
     ]
    },
    {
     "name": "stderr",
     "output_type": "stream",
     "text": [
      "100%|██████████| 6/6 [00:02<00:00,  2.62it/s]\n"
     ]
    },
    {
     "name": "stdout",
     "output_type": "stream",
     "text": [
      "Repetition: 64\n"
     ]
    },
    {
     "name": "stderr",
     "output_type": "stream",
     "text": [
      "100%|██████████| 6/6 [00:02<00:00,  2.63it/s]\n"
     ]
    },
    {
     "name": "stdout",
     "output_type": "stream",
     "text": [
      "Repetition: 65\n"
     ]
    },
    {
     "name": "stderr",
     "output_type": "stream",
     "text": [
      "100%|██████████| 6/6 [00:02<00:00,  2.60it/s]\n"
     ]
    },
    {
     "name": "stdout",
     "output_type": "stream",
     "text": [
      "Repetition: 66\n"
     ]
    },
    {
     "name": "stderr",
     "output_type": "stream",
     "text": [
      "100%|██████████| 6/6 [00:02<00:00,  2.58it/s]\n"
     ]
    },
    {
     "name": "stdout",
     "output_type": "stream",
     "text": [
      "Repetition: 67\n"
     ]
    },
    {
     "name": "stderr",
     "output_type": "stream",
     "text": [
      "100%|██████████| 6/6 [00:02<00:00,  2.65it/s]\n"
     ]
    },
    {
     "name": "stdout",
     "output_type": "stream",
     "text": [
      "Repetition: 68\n"
     ]
    },
    {
     "name": "stderr",
     "output_type": "stream",
     "text": [
      "100%|██████████| 6/6 [00:02<00:00,  2.57it/s]\n"
     ]
    },
    {
     "name": "stdout",
     "output_type": "stream",
     "text": [
      "Repetition: 69\n"
     ]
    },
    {
     "name": "stderr",
     "output_type": "stream",
     "text": [
      "100%|██████████| 6/6 [00:02<00:00,  2.59it/s]\n"
     ]
    },
    {
     "name": "stdout",
     "output_type": "stream",
     "text": [
      "Repetition: 70\n"
     ]
    },
    {
     "name": "stderr",
     "output_type": "stream",
     "text": [
      "100%|██████████| 6/6 [00:02<00:00,  2.60it/s]\n"
     ]
    },
    {
     "name": "stdout",
     "output_type": "stream",
     "text": [
      "Repetition: 71\n"
     ]
    },
    {
     "name": "stderr",
     "output_type": "stream",
     "text": [
      "100%|██████████| 6/6 [00:02<00:00,  2.62it/s]\n"
     ]
    },
    {
     "name": "stdout",
     "output_type": "stream",
     "text": [
      "Repetition: 72\n"
     ]
    },
    {
     "name": "stderr",
     "output_type": "stream",
     "text": [
      "100%|██████████| 6/6 [00:02<00:00,  2.67it/s]\n"
     ]
    },
    {
     "name": "stdout",
     "output_type": "stream",
     "text": [
      "Repetition: 73\n"
     ]
    },
    {
     "name": "stderr",
     "output_type": "stream",
     "text": [
      "100%|██████████| 6/6 [00:02<00:00,  2.65it/s]\n"
     ]
    },
    {
     "name": "stdout",
     "output_type": "stream",
     "text": [
      "Repetition: 74\n"
     ]
    },
    {
     "name": "stderr",
     "output_type": "stream",
     "text": [
      "100%|██████████| 6/6 [00:02<00:00,  2.66it/s]\n"
     ]
    },
    {
     "name": "stdout",
     "output_type": "stream",
     "text": [
      "Repetition: 75\n"
     ]
    },
    {
     "name": "stderr",
     "output_type": "stream",
     "text": [
      "100%|██████████| 6/6 [00:02<00:00,  2.69it/s]\n"
     ]
    },
    {
     "name": "stdout",
     "output_type": "stream",
     "text": [
      "Repetition: 76\n"
     ]
    },
    {
     "name": "stderr",
     "output_type": "stream",
     "text": [
      "100%|██████████| 6/6 [00:02<00:00,  2.68it/s]\n"
     ]
    },
    {
     "name": "stdout",
     "output_type": "stream",
     "text": [
      "Repetition: 77\n"
     ]
    },
    {
     "name": "stderr",
     "output_type": "stream",
     "text": [
      "100%|██████████| 6/6 [00:02<00:00,  2.70it/s]\n"
     ]
    },
    {
     "name": "stdout",
     "output_type": "stream",
     "text": [
      "Repetition: 78\n"
     ]
    },
    {
     "name": "stderr",
     "output_type": "stream",
     "text": [
      "100%|██████████| 6/6 [00:02<00:00,  2.67it/s]\n"
     ]
    },
    {
     "name": "stdout",
     "output_type": "stream",
     "text": [
      "Repetition: 79\n"
     ]
    },
    {
     "name": "stderr",
     "output_type": "stream",
     "text": [
      "100%|██████████| 6/6 [00:02<00:00,  2.70it/s]\n"
     ]
    },
    {
     "name": "stdout",
     "output_type": "stream",
     "text": [
      "Repetition: 80\n"
     ]
    },
    {
     "name": "stderr",
     "output_type": "stream",
     "text": [
      "100%|██████████| 6/6 [00:02<00:00,  2.65it/s]\n"
     ]
    },
    {
     "name": "stdout",
     "output_type": "stream",
     "text": [
      "Repetition: 81\n"
     ]
    },
    {
     "name": "stderr",
     "output_type": "stream",
     "text": [
      "100%|██████████| 6/6 [00:02<00:00,  2.60it/s]\n"
     ]
    },
    {
     "name": "stdout",
     "output_type": "stream",
     "text": [
      "Repetition: 82\n"
     ]
    },
    {
     "name": "stderr",
     "output_type": "stream",
     "text": [
      "100%|██████████| 6/6 [00:02<00:00,  2.60it/s]\n"
     ]
    },
    {
     "name": "stdout",
     "output_type": "stream",
     "text": [
      "Repetition: 83\n"
     ]
    },
    {
     "name": "stderr",
     "output_type": "stream",
     "text": [
      "100%|██████████| 6/6 [00:02<00:00,  2.56it/s]\n"
     ]
    },
    {
     "name": "stdout",
     "output_type": "stream",
     "text": [
      "Repetition: 84\n"
     ]
    },
    {
     "name": "stderr",
     "output_type": "stream",
     "text": [
      "100%|██████████| 6/6 [00:02<00:00,  2.62it/s]\n"
     ]
    },
    {
     "name": "stdout",
     "output_type": "stream",
     "text": [
      "Repetition: 85\n"
     ]
    },
    {
     "name": "stderr",
     "output_type": "stream",
     "text": [
      "100%|██████████| 6/6 [00:02<00:00,  2.68it/s]\n"
     ]
    },
    {
     "name": "stdout",
     "output_type": "stream",
     "text": [
      "Repetition: 86\n"
     ]
    },
    {
     "name": "stderr",
     "output_type": "stream",
     "text": [
      "100%|██████████| 6/6 [00:02<00:00,  2.66it/s]\n"
     ]
    },
    {
     "name": "stdout",
     "output_type": "stream",
     "text": [
      "Repetition: 87\n"
     ]
    },
    {
     "name": "stderr",
     "output_type": "stream",
     "text": [
      "100%|██████████| 6/6 [00:02<00:00,  2.66it/s]\n"
     ]
    },
    {
     "name": "stdout",
     "output_type": "stream",
     "text": [
      "Repetition: 88\n"
     ]
    },
    {
     "name": "stderr",
     "output_type": "stream",
     "text": [
      "100%|██████████| 6/6 [00:02<00:00,  2.65it/s]\n"
     ]
    },
    {
     "name": "stdout",
     "output_type": "stream",
     "text": [
      "Repetition: 89\n"
     ]
    },
    {
     "name": "stderr",
     "output_type": "stream",
     "text": [
      "100%|██████████| 6/6 [00:02<00:00,  2.52it/s]\n"
     ]
    },
    {
     "name": "stdout",
     "output_type": "stream",
     "text": [
      "Repetition: 90\n"
     ]
    },
    {
     "name": "stderr",
     "output_type": "stream",
     "text": [
      "100%|██████████| 6/6 [00:02<00:00,  2.64it/s]\n"
     ]
    },
    {
     "name": "stdout",
     "output_type": "stream",
     "text": [
      "Repetition: 91\n"
     ]
    },
    {
     "name": "stderr",
     "output_type": "stream",
     "text": [
      "100%|██████████| 6/6 [00:02<00:00,  2.54it/s]\n"
     ]
    },
    {
     "name": "stdout",
     "output_type": "stream",
     "text": [
      "Repetition: 92\n"
     ]
    },
    {
     "name": "stderr",
     "output_type": "stream",
     "text": [
      "100%|██████████| 6/6 [00:02<00:00,  2.66it/s]\n"
     ]
    },
    {
     "name": "stdout",
     "output_type": "stream",
     "text": [
      "Repetition: 93\n"
     ]
    },
    {
     "name": "stderr",
     "output_type": "stream",
     "text": [
      "100%|██████████| 6/6 [00:02<00:00,  2.67it/s]\n"
     ]
    },
    {
     "name": "stdout",
     "output_type": "stream",
     "text": [
      "Repetition: 94\n"
     ]
    },
    {
     "name": "stderr",
     "output_type": "stream",
     "text": [
      "100%|██████████| 6/6 [00:02<00:00,  2.67it/s]\n"
     ]
    },
    {
     "name": "stdout",
     "output_type": "stream",
     "text": [
      "Repetition: 95\n"
     ]
    },
    {
     "name": "stderr",
     "output_type": "stream",
     "text": [
      "100%|██████████| 6/6 [00:02<00:00,  2.68it/s]\n"
     ]
    },
    {
     "name": "stdout",
     "output_type": "stream",
     "text": [
      "Repetition: 96\n"
     ]
    },
    {
     "name": "stderr",
     "output_type": "stream",
     "text": [
      "100%|██████████| 6/6 [00:02<00:00,  2.66it/s]\n"
     ]
    },
    {
     "name": "stdout",
     "output_type": "stream",
     "text": [
      "Repetition: 97\n"
     ]
    },
    {
     "name": "stderr",
     "output_type": "stream",
     "text": [
      "100%|██████████| 6/6 [00:02<00:00,  2.69it/s]\n"
     ]
    },
    {
     "name": "stdout",
     "output_type": "stream",
     "text": [
      "Repetition: 98\n"
     ]
    },
    {
     "name": "stderr",
     "output_type": "stream",
     "text": [
      "100%|██████████| 6/6 [00:02<00:00,  2.69it/s]\n"
     ]
    },
    {
     "name": "stdout",
     "output_type": "stream",
     "text": [
      "Repetition: 99\n"
     ]
    },
    {
     "name": "stderr",
     "output_type": "stream",
     "text": [
      "100%|██████████| 6/6 [00:02<00:00,  2.67it/s]\n"
     ]
    },
    {
     "name": "stdout",
     "output_type": "stream",
     "text": [
      "Repetition: 100\n"
     ]
    },
    {
     "name": "stderr",
     "output_type": "stream",
     "text": [
      "100%|██████████| 6/6 [00:02<00:00,  2.69it/s]\n"
     ]
    }
   ],
   "source": [
    "# Run\n",
    "\n",
    "# Parameters\n",
    "num_repetition = 100\n",
    "num_epoch = 100\n",
    "dim_list = list(range(3, 4))\n",
    "num_per_perm_train = 10 # Every permutation gets the same number of train/test data samples\n",
    "num_per_perm_test = 10 # Every permutation gets the same number of train/test data samples\n",
    "superset_factor = 4 # Create a superset # times larger than what is needed to ensure each class would have sufficient number of samples\n",
    "eva_funcs = [torch.amin, torch.amax, torch.mean, gmean(2)] # List of evaluation functions, initialize with dim=2\n",
    "\n",
    "MSEs_seen_by_dim = []\n",
    "MSEs_unseen_by_dim = []\n",
    "\n",
    "FM_by_dim = []\n",
    "\n",
    "output_dir = 'output/'\n",
    "\n",
    "# Train&Test for dim = 3 to 8\n",
    "for dim in dim_list:\n",
    "    eva_funcs[-1] = gmean(dim) # List of evaluation functions\n",
    "    \n",
    "    all_perms = list(permutations(list(range(dim)))) # N! possible permutations\n",
    "\n",
    "    # When the # of possible permutations exceed certain number (in here 5!), \n",
    "    #instead of feeding only one more permutation a time, feed more.\n",
    "    train_group_num_limit = math.factorial(5)\n",
    "    if len(all_perms) > train_group_num_limit:\n",
    "        step = int(len(all_perms) / train_group_num_limit)\n",
    "    else:\n",
    "        step = 1\n",
    "    \n",
    "    # Mean Squared Error for each evaluation function, for each percentage, for each repetition, of all test samples, for both seen and unseen data.\n",
    "    MSEs_seen = np.zeros((len(eva_funcs), len(range(step-1, len(all_perms), step)), num_repetition))\n",
    "    MSEs_unseen = np.zeros((len(eva_funcs), len(range(step-1, len(all_perms), step))-1, num_repetition))\n",
    "    # Record FM after train session with both seen and unseen data pattern\n",
    "    FM = np.zeros((len(eva_funcs), len(range(step-1, len(all_perms), step)), num_repetition, 2**dim-1))\n",
    "    \n",
    "    for rep in range(num_repetition):\n",
    "        print('Repetition:', rep+1)\n",
    "        random.shuffle(all_perms)\n",
    "        train_data_superset, _, train_idx_by_perm = create_dataset(dim, all_perms, num_per_perm_train`, superset_factor)\n",
    "        test_data_superset, _, test_idx_by_perm = create_dataset(dim, all_perms, num_per_perm_test, superset_factor)\n",
    "        \n",
    "        for perc_idx, perc in enumerate(tqdm(range(step-1, len(all_perms), step))):\n",
    "            # Find index of train/test sample in superset and shuffle\n",
    "            train_idx = np.concatenate(train_idx_by_perm[0:perc+1])\n",
    "            np.random.shuffle(train_idx)\n",
    "            test_idx = np.concatenate(test_idx_by_perm[0:perc+1])\n",
    "            # Find data sample through index and convert from numpy array to torch tensor\n",
    "            train_d = train_data_superset[:, train_idx]\n",
    "            test_d = test_data_superset[:, test_idx]\n",
    "            train_d = torch.tensor(train_d, dtype=torch.float)\n",
    "            test_d = torch.tensor(test_d, dtype=torch.float)\n",
    "            # Define unseen test data samples when the train data doesn't cover 100% of the permutation\n",
    "            if perc < len(all_perms)-1:\n",
    "                test_idx_unseen = np.concatenate(test_idx_by_perm[perc+1:])\n",
    "                test_d_unseen = test_data_superset[:, test_idx_unseen]\n",
    "                test_d_unseen = torch.tensor(test_d_unseen, dtype=torch.float)\n",
    "            else:\n",
    "                test_d_unseen = []\n",
    "            \n",
    "            # Define subsets of 'X', or keys for fuzzy measure. Like '1 2' or '1 3 4 5' for g(x1, x2) or g(x1, x3, x4, x5)\n",
    "            sourcesInNode, subset = sources_and_subsets_nodes(dim)\n",
    "            keys = [str(np.sort(i)+1) for i in sourcesInNode]\n",
    "            \n",
    "            for eva_idx, eva_func in enumerate(eva_funcs):\n",
    "                # Calculate label with given evaluation function\n",
    "                train_label = eva_func(train_d, 0)\n",
    "                test_label = eva_func(test_d, 0)\n",
    "                train_label.unsqueeze_(1)\n",
    "                \n",
    "                \n",
    "                # Initialize ChINN\n",
    "                chinn = Choquet_Integral_NN(dim, 1)\n",
    "                # Parameters for training NN\n",
    "                lr = 0.05 # Learning rate\n",
    "                criterion = torch.nn.MSELoss(reduction='mean')\n",
    "                optimizer = torch.optim.SGD(chinn.parameters(), lr=lr)\n",
    "                # Train \n",
    "                train_chinn(chinn, lr, criterion, optimizer, num_epoch, train_d, train_label)\n",
    "                # Get fuzzy measure learned\n",
    "                FM_learned = (chinn.chi_nn_vars(chinn.vars).cpu()).detach().numpy()\n",
    "                fm_dict_binary = dict(zip(keys, FM_learned[:,0]))\n",
    "                fm_dict_lexicographic = get_keys_index(dim)\n",
    "                for key in fm_dict_lexicographic.keys():\n",
    "                    fm_dict_lexicographic[key] = fm_dict_binary[key]\n",
    "                FM[eva_idx, perc_idx, rep, :] = np.asarray(list(fm_dict_lexicographic.values()))\n",
    "                # Calculate result from integral with test data\n",
    "                test_output = np.apply_along_axis(get_cal_chi(fm_dict_lexicographic), 0, test_d)\n",
    "                MSE = ((test_output - test_label.numpy())**2).mean()\n",
    "                MSEs_seen[eva_idx, perc_idx, rep] = MSE\n",
    "                # Calculate result from integral with test data - unseen\n",
    "                if perc < len(all_perms)-1:\n",
    "                    test_label_unseen = eva_func(test_d_unseen, 0)\n",
    "                    test_out_unseen = np.apply_along_axis(get_cal_chi(fm_dict_lexicographic), 0, test_d_unseen)\n",
    "                    MSEs_unseen[eva_idx, perc_idx, rep] = ((test_out_unseen - test_label_unseen.numpy())**2).mean()\n",
    "    FM_by_dim.append(FM)\n",
    "    MSEs_seen_by_dim.append(MSEs_seen)\n",
    "    MSEs_unseen_by_dim.append(MSEs_unseen)\n",
    "\n",
    "with open(output_dir + 'ChINN_saved_file', 'wb') as f:\n",
    "    pickle.dump(FM_by_dim, f)\n",
    "    pickle.dump(MSEs_seen_by_dim, f)\n",
    "    pickle.dump(MSEs_unseen_by_dim, f)"
   ]
  },
  {
   "cell_type": "code",
   "execution_count": 5,
   "id": "041da000",
   "metadata": {
    "code_folding": [
     0
    ]
   },
   "outputs": [],
   "source": [
    "# Plot for seen data\n",
    "output_dir = 'output/'\n",
    "dim_list = list(range(3, 4))\n",
    "eva_funcs = [torch.amin, torch.amax, torch.mean, gmean(2)]\n",
    "\n",
    "with open(output_dir + 'ChINN_saved_file', 'rb') as f:\n",
    "    FM_by_dim = pickle.load(f)\n",
    "    MSEs_seen_by_dim = pickle.load(f)\n",
    "    MSEs_unseen_by_dim = pickle.load(f)\n",
    "\n",
    "print\n",
    "for dim, MSEs_seen in zip(dim_list, MSEs_seen_by_dim):\n",
    "    plot_mean = np.mean(MSEs_seen, 2)\n",
    "    plot_max = np.max(MSEs_seen, 2)\n",
    "    plot_min = np.min(MSEs_seen, 2)\n",
    "\n",
    "    num_perm = math.factorial(dim)\n",
    "\n",
    "    fig, ax = plt.subplots()\n",
    "\n",
    "    x = (np.asarray(list(range(1, np.size(MSEs_seen, 1)+1)))) / np.size(MSEs_seen, 1)\n",
    "    plt.plot(x, plot_mean.transpose())\n",
    "    ax.set_title('MSE (Data with seen pattern)')\n",
    "    ax.legend(['Min', 'Max', 'Mean', 'Geometric Mean'])\n",
    "    ax.set_xlabel('Percentage of Seen Data')\n",
    "    ax.set_ylabel('MSEs avg')\n",
    "    ax.xaxis.set_major_formatter(FuncFormatter('{0:.0%}'.format))\n",
    "\n",
    "    for i in range(len(eva_funcs)):\n",
    "        plt.fill_between(x, plot_min[i, :], plot_max[i, :], alpha=0.1)\n",
    "    \n",
    "    plt.savefig(output_dir + 'ChINN-' + str(dim) + '-MSE seen.png')\n",
    "    \n",
    "    \n",
    "    \n",
    "# Plot for unseen data\n",
    "\n",
    "for dim, MSEs_unseen in zip(dim_list, MSEs_unseen_by_dim):\n",
    "    plot_mean = np.mean(MSEs_unseen, 2)\n",
    "    plot_max = np.max(MSEs_unseen, 2)\n",
    "    plot_min = np.min(MSEs_unseen, 2)\n",
    "\n",
    "    num_perm = math.factorial(dim)\n",
    "\n",
    "    fig, ax = plt.subplots()\n",
    "\n",
    "    x = (np.asarray(list(range(1, np.size(MSEs_unseen, 1)+1)))) / (np.size(MSEs_unseen, 1)+1)\n",
    "    plt.plot(x, plot_mean.transpose())\n",
    "    ax.set_title('MSE (Data with unseen pattern)')\n",
    "    ax.legend(['Min', 'Max', 'Mean', 'Geometric Mean'])\n",
    "    ax.set_xlabel('Percentage of Seen Data')\n",
    "    ax.set_ylabel('MSEs avg')\n",
    "    ax.xaxis.set_major_formatter(FuncFormatter('{0:.0%}'.format))\n",
    "\n",
    "    for i in range(len(eva_funcs)):\n",
    "        plt.fill_between(x, plot_min[i, :], plot_max[i, :], alpha=0.1)\n",
    "        \n",
    "    plt.savefig(output_dir + 'ChINN-' + str(dim) + '-MSE unseen.png')"
   ]
  },
  {
   "cell_type": "code",
   "execution_count": 6,
   "id": "d4099521",
   "metadata": {},
   "outputs": [
    {
     "name": "stdout",
     "output_type": "stream",
     "text": [
      "test\n",
      "1\n",
      "test\n",
      "0\n",
      "1\n",
      "2\n",
      "3\n"
     ]
    }
   ],
   "source": [
    "\n",
    "print('test')\n",
    "fm_targets = [get_min_fm_target, get_max_fm_target, get_mean_fm_target, get_gmean_fm_target]\n",
    "eva_name = ['Min', 'Max', 'Mean', 'GMean']\n",
    "print(len(FM_by_dim))\n",
    "for fm, dim in zip(FM_by_dim, dim_list):\n",
    "    print('test')\n",
    "    for eva_idx, fm_target in enumerate(fm_targets):\n",
    "        print(eva_idx)\n",
    "        \n",
    "        eva_fm = fm[eva_idx, :, :, :]\n",
    "        eva_fm_mean = np.mean(eva_fm, 1)\n",
    "        eva_fm_min = np.amin(eva_fm, 1)\n",
    "        eva_fm_max = np.amax(eva_fm, 1)\n",
    "        \n",
    "        # First set up the figure, the axis, and the plot element we want to animate\n",
    "        fig = plt.figure()\n",
    "        ax = plt.axes(xlim=(0, np.size(eva_fm, 2)-1), ylim=(-0.1, 1.1))\n",
    "        line, = ax.plot([], [], lw=2)\n",
    "        ax.set_xlabel('Fuzzy Measure Value')\n",
    "        ax.set_ylabel('Fuzzy Measure Count')\n",
    "        ax.set_title(eva_name[eva_idx]+' Dim='+str(dim))\n",
    "        \n",
    "        # initialization function: plot the background of each frame\n",
    "        def init():\n",
    "            x = list(range(np.size(eva_fm, 2)))\n",
    "            y = list(fm_target(dim).values())\n",
    "            plt.plot(x, y)\n",
    "            ax.legend(['FM Target'], loc=4)\n",
    "            \n",
    "\n",
    "        # animation function.  This is called sequentially\n",
    "        def animate(i):\n",
    "            x = np.asarray(list(range(np.size(eva_fm, 2))))\n",
    "            y = eva_fm_mean[i, :]\n",
    "            line.set_data(x, y)\n",
    "            ax.legend(['FM Predict (Seen data percentage ' + str(\"{0:.0%}\".format((i+1)/np.size(eva_fm, 0))) + ')', 'FM Target'])\n",
    "            ax.collections = []\n",
    "            plt.fill_between(x, eva_fm_min[i, :], eva_fm_max[i, :], color='blue', alpha=0.1)\n",
    "            return line,\n",
    "\n",
    "        # call the animator.  blit=True means only re-draw the parts that have changed.\n",
    "        anim = animation.FuncAnimation(fig, animate, frames=np.size(eva_fm, 0), init_func=init(), interval=200, blit=True)\n",
    "\n",
    "        # save the animation as an mp4.  This requires ffmpeg or mencoder to be\n",
    "        # installed.  The extra_args ensure that the x264 codec is used, so that\n",
    "        # the video can be embedded in html5.  You may need to adjust this for\n",
    "        # your system: for more information, see\n",
    "        # http://matplotlib.sourceforge.net/api/animation_api.html\n",
    "        anim.save(output_dir + 'ChINN-' + str(dim) + '-' + eva_name[eva_idx] + 'FM.mp4', fps=1)\n",
    "#         plt.show()\n",
    "        plt.close('all')"
   ]
  }
 ],
 "metadata": {
  "kernelspec": {
   "display_name": "Python 3",
   "language": "python",
   "name": "python3"
  },
  "language_info": {
   "codemirror_mode": {
    "name": "ipython",
    "version": 3
   },
   "file_extension": ".py",
   "mimetype": "text/x-python",
   "name": "python",
   "nbconvert_exporter": "python",
   "pygments_lexer": "ipython3",
   "version": "3.8.11"
  }
 },
 "nbformat": 4,
 "nbformat_minor": 5
}
