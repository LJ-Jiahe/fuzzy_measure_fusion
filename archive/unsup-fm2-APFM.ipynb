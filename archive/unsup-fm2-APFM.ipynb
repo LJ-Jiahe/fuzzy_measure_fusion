{
 "cells": [
  {
   "cell_type": "code",
   "execution_count": 2,
   "id": "8c741c88",
   "metadata": {
    "code_folding": [
     0
    ]
   },
   "outputs": [
    {
     "data": {
      "text/html": [
       "<style>.container { width:100% !important; }</style>"
      ],
      "text/plain": [
       "<IPython.core.display.HTML object>"
      ]
     },
     "metadata": {},
     "output_type": "display_data"
    },
    {
     "name": "stdout",
     "output_type": "stream",
     "text": [
      "macOS\n",
      "Interactive plot activated\n"
     ]
    }
   ],
   "source": [
    "# Imports\n",
    "\n",
    "import itertools\n",
    "from itertools import permutations\n",
    "from math import tanh\n",
    "import os\n",
    "import pickle\n",
    "import platform\n",
    "import random\n",
    "from tkinter import Tk\n",
    "\n",
    "from cvxopt import solvers, matrix\n",
    "import math\n",
    "from matplotlib import animation\n",
    "from  matplotlib import pyplot as plt\n",
    "from matplotlib.ticker import FuncFormatter\n",
    "import numpy as np\n",
    "import torch\n",
    "import torchvision\n",
    "from torchvision import transforms, models,datasets\n",
    "from torch.utils.data import Dataset, DataLoader\n",
    "from tqdm import tqdm\n",
    "\n",
    "# Extend width of Jupyter Notebook Cell to the size of browser\n",
    "from IPython.core.display import display, HTML\n",
    "display(HTML(\"<style>.container { width:100% !important; }</style>\"))\n",
    "\n",
    "# OS related settings\n",
    "if platform.system() == 'Windows':\n",
    "    print('Windows')\n",
    "#     %matplotlib tk\n",
    "    %matplotlib qt\n",
    "elif platform.system() == 'Darwin':\n",
    "    print('macOS')\n",
    "    Tk().withdraw()\n",
    "    %matplotlib osx\n",
    "elif platform == 'linux' or platform == 'linux2':\n",
    "    print('Linux')\n",
    "# This line of \"print\" must exist right after %matplotlib command, otherwise JN will hang on the first import statement after this.\n",
    "print('Interactive plot activated')"
   ]
  },
  {
   "cell_type": "code",
   "execution_count": 3,
   "id": "d950b51f",
   "metadata": {
    "code_folding": [
     0
    ]
   },
   "outputs": [],
   "source": [
    "# Functions\n",
    "\n",
    "\n",
    "def cal_chi(fm, x):\n",
    "    \"\"\"\n",
    "    Calculates ChI with given fuzzy measure and input\n",
    "    \n",
    "    :param fm: Fuzzy measure\n",
    "    :param x: Input\n",
    "    :return: Single value Chi output\n",
    "    \"\"\"\n",
    "    pi_i = np.argsort(-x) + 1 # Arg sort of input, with the smallest index9 being 1\n",
    "    ch = x[pi_i[0] - 1] * (fm[str(pi_i[:1])])\n",
    "    for i in range(1, len(x)):\n",
    "        latt_pti = np.sort(pi_i[:i+1])\n",
    "        latt_ptimin1 = np.sort(pi_i[:i])\n",
    "        ch = ch + x[pi_i[i] - 1] * (fm[str(latt_pti)] - fm[str(latt_ptimin1)])\n",
    "    return ch\n",
    "\n",
    "\n",
    "def get_cal_chi(fm):\n",
    "    return lambda x: cal_chi(fm, x)\n",
    "\n",
    "\n",
    "\n",
    "def get_keys_index(dim):\n",
    "    \"\"\"\n",
    "    Sets up a dictionary for referencing FM.\n",
    "    :return: The keys to the dictionary\n",
    "    \"\"\"\n",
    "    vls = np.arange(1, dim + 1)\n",
    "    Lattice = {}\n",
    "    for i in range(1, dim + 1):\n",
    "        A = np.array(list(itertools.combinations(vls, i)))\n",
    "        for latt_pt in A:\n",
    "            Lattice[str(latt_pt)] = 1\n",
    "    return Lattice\n",
    "\n",
    "\n",
    "def get_min_fm_target(dim):\n",
    "    fm = get_keys_index(dim)\n",
    "    for key in fm.keys():\n",
    "        if len(key.split()) != dim:\n",
    "            fm[key] = 0\n",
    "        else:\n",
    "            fm[key] = 1\n",
    "    return fm\n",
    "    \n",
    "    \n",
    "def get_max_fm_target(dim):\n",
    "    fm = get_keys_index(dim)\n",
    "    return fm\n",
    "\n",
    "\n",
    "def get_mean_fm_target(dim):\n",
    "    fm = get_keys_index(dim)\n",
    "    for key in fm.keys():\n",
    "        fm[key] = len(key.split()) / dim\n",
    "    return fm\n",
    "\n",
    "\n",
    "def get_gmean_fm_target(dim):\n",
    "    fm = get_mean_fm_target(dim)\n",
    "    return fm\n",
    "\n",
    "\n",
    "\n",
    "def create_synthetic_data(num_samples=100, accuracies=[0.9, 0.6, 0.5]):\n",
    "    label = np.random.randint(0, 2, num_samples)\n",
    "\n",
    "    flip_ind = []\n",
    "    for acc in accuracies:\n",
    "        flip_ind.append(np.random.choice(range(num_samples), round((1-acc)*num_samples), replace=False))\n",
    "\n",
    "    outputs = []\n",
    "\n",
    "    for ind in flip_ind:\n",
    "        output_bin = np.copy(label)\n",
    "        output_bin[ind] = 1 - output_bin[ind]\n",
    "        output = np.asarray([(random.random()+1)/2 if o_b == 1 else random.random()/2 for o_b in output_bin])\n",
    "        \n",
    "        outputs.append(output)\n",
    "    outputs = np.asarray(outputs)\n",
    "    \n",
    "    return(label, outputs)\n",
    "    \n",
    "\n",
    "def test_accuracy(target, output):\n",
    "    acc = np.sum(target == output.round()) / len(target)\n",
    "    return acc"
   ]
  },
  {
   "cell_type": "code",
   "execution_count": 7,
   "id": "5e4487e2",
   "metadata": {},
   "outputs": [
    {
     "name": "stdout",
     "output_type": "stream",
     "text": [
      "dict_values([0.9, 0.6, 0.5, 0.69, 0.65, 0.52, 0.65])\n",
      "[1.     0.625  0.5    0.7375 0.6875 0.525  0.6875]\n",
      "dict_values([1.0, 0.625, 0.5, 0.7374999999999999, 0.6875, 0.525, 0.6875])\n"
     ]
    }
   ],
   "source": [
    "label, outputs = create_synthetic_data()\n",
    "\n",
    "dim = len(outputs)\n",
    "\n",
    "pA = get_keys_index(dim)\n",
    "\n",
    "for key in pA.keys():\n",
    "    key_int = np.asarray(key[1:-1].split()).astype(int) - 1\n",
    "    output_coalition = np.mean(outputs[key_int, :], 0)\n",
    "    acc_coalition = test_accuracy(label, output_coalition)\n",
    "    pA[key] = acc_coalition\n",
    "    \n",
    "print(pA.values())\n",
    "pA_values = list(pA.values())\n",
    "a = np.amax(pA_values) - np.amin(pA_values)\n",
    "pA_values = ((pA_values - np.amin(pA_values)) / a + 1) / 2\n",
    "print(pA_values)\n",
    "\n",
    "for i, key in enumerate(pA.keys()):\n",
    "    pA[key] = pA_values[i]\n",
    "    \n",
    "print(pA.values())"
   ]
  }
 ],
 "metadata": {
  "kernelspec": {
   "display_name": "Python 3",
   "language": "python",
   "name": "python3"
  },
  "language_info": {
   "codemirror_mode": {
    "name": "ipython",
    "version": 3
   },
   "file_extension": ".py",
   "mimetype": "text/x-python",
   "name": "python",
   "nbconvert_exporter": "python",
   "pygments_lexer": "ipython3",
   "version": "3.8.11"
  }
 },
 "nbformat": 4,
 "nbformat_minor": 5
}
